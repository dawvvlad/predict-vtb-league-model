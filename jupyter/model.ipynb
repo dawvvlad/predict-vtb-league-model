{
 "cells": [
  {
   "cell_type": "code",
   "execution_count": null,
   "metadata": {},
   "outputs": [],
   "source": [
    "import pandas as pd\n",
    "from sklearn.linear_model import LogisticRegression\n",
    "from sklearn.model_selection import TimeSeriesSplit\n",
    "from sklearn.feature_selection import SequentialFeatureSelector\n",
    "from sklearn.preprocessing import MinMaxScaler\n"
   ]
  },
  {
   "cell_type": "code",
   "execution_count": null,
   "metadata": {},
   "outputs": [],
   "source": [
    "df = pd.read_csv('../data/csv/games_data_2.csv')\n",
    "team_stats_by_season = pd.read_csv('../data/csv/team_stats.csv')"
   ]
  },
  {
   "cell_type": "code",
   "execution_count": null,
   "metadata": {},
   "outputs": [],
   "source": [
    "team_stats_by_season['% Побед дома'] = team_stats_by_season['Побед дома'].apply(\n",
    "    lambda x: round(int(x.split('-')[0]) / int(x.split('-')[1]) if int(x.split('-')[1]) != 0 else int(x.split('-')[0]),\n",
    "                    2)).copy()\n",
    "team_stats_by_season['% Побед в гостях'] = team_stats_by_season['Побед в гостях'].apply(\n",
    "    lambda x: round(int(x.split('-')[0]) / int(x.split('-')[1]) if int(x.split('-')[1]) != 0 else int(x.split('-')[0]),\n",
    "                    2)).copy()\n",
    "team_stats_by_season.drop(columns=['Побед дома'], inplace=True)\n",
    "team_stats_by_season.drop(columns=['Побед в гостях'], inplace=True)"
   ]
  },
  {
   "cell_type": "code",
   "execution_count": null,
   "metadata": {},
   "outputs": [],
   "source": [
    "# Выборка нечисловых значений\n",
    "float_fields = [x for x in df.keys() if x.endswith('3/В') or x.endswith('В прот.')]\n",
    "percent_fields = [x for x in df.keys() if x.endswith('%') or x.endswith('% прот.')]"
   ]
  },
  {
   "cell_type": "code",
   "execution_count": null,
   "metadata": {},
   "outputs": [],
   "source": [
    "# Представление нечисловых значений в процентах\n",
    "for fl in float_fields:\n",
    "    df[fl] = df[fl].apply(lambda x: int(x.split('/')[0]) / int(x.split('/')[1]) if '/' in x else 0)\n",
    "\n",
    "for per in percent_fields:\n",
    "    df[per] = df[per].apply(lambda x: int(x) / 100 if x > 0 else 0)\n",
    "\n",
    "df = df.dropna(axis=0, how='any')"
   ]
  },
  {
   "cell_type": "code",
   "execution_count": null,
   "metadata": {},
   "outputs": [],
   "source": [
    "# Создание столбца Сезон\n",
    "def get_season(date_str):\n",
    "    year = int(date_str.split()[-1])\n",
    "    if year == 2024:\n",
    "        return 2024\n",
    "    return f\"{year + 1}\"\n",
    "\n",
    "\n",
    "df['Сезон'] = df['Дата'].apply(get_season)"
   ]
  },
  {
   "cell_type": "code",
   "execution_count": null,
   "metadata": {},
   "outputs": [],
   "source": [
    "dataset = pd.merge(df, team_stats_by_season, on=['Имя', 'Сезон'], how='left')\n",
    "team_stats_by_season_prot = team_stats_by_season.rename(columns=lambda x: x + ' прот.' if x not in ['Сезон', 'Имя'] else x)\n",
    "\n",
    "# Объединение данных по имени противника\n",
    "dataset = pd.merge(dataset, team_stats_by_season_prot, left_on=['Имя прот.', 'Сезон'], right_on=['Имя', 'Сезон'], how='left')"
   ]
  },
  {
   "cell_type": "code",
   "execution_count": 3,
   "metadata": {},
   "outputs": [],
   "source": [
    "# Целевой признак\n",
    "def add_target(team):\n",
    "    team['Цель'] = team['Победа'].shift(-1)\n",
    "    return team"
   ]
  },
  {
   "cell_type": "code",
   "execution_count": null,
   "metadata": {},
   "outputs": [],
   "source": [
    "# Подготовка данных \n",
    "dataset = dataset.groupby('Имя_x', group_keys=False).apply(add_target).copy().dropna().reset_index(drop=True)\n",
    "dataset['Цель'] = dataset['Цель'].astype(int, errors='ignore')\n",
    "\n",
    "dataset.rename(columns={'Имя_x': 'Имя'}, inplace=True)\n",
    "dataset.drop(columns=['Имя_y'], inplace=True)"
   ]
  },
  {
   "cell_type": "code",
   "execution_count": null,
   "metadata": {},
   "outputs": [],
   "source": [
    "# Создание модели логистической регрессии\n",
    "lr = LogisticRegression()\n",
    "split = TimeSeriesSplit(n_splits=3)\n",
    "sfs = SequentialFeatureSelector(lr, n_features_to_select=30, direction='forward', cv=split)"
   ]
  },
  {
   "cell_type": "code",
   "execution_count": null,
   "metadata": {},
   "outputs": [],
   "source": [
    "# Подготовка данных для подгонки\n",
    "removed_cols = ['Сезон', 'Дата', 'Цель', 'Победа', 'Имя', 'Имя прот.', 'Победа дома']\n",
    "selected_cols = dataset.columns[~dataset.columns.isin(removed_cols)]\n",
    "\n",
    "scaler = MinMaxScaler()\n",
    "dataset[selected_cols] = scaler.fit_transform(dataset[selected_cols])\n",
    "\n",
    "# Подгонка\n",
    "sfs.fit(dataset[selected_cols], dataset['Цель'])\n",
    "predictors = list(selected_cols[sfs.get_support()])\n",
    "\n",
    "args = ['Блокшоты', 'Забито', 'Перехваты', 'Пропущено', 'Разница']\n",
    "for i in args:\n",
    "    predictors.append(i)\n",
    "predictors.sort()"
   ]
  },
  {
   "cell_type": "code",
   "execution_count": null,
   "metadata": {},
   "outputs": [],
   "source": [
    "# График важности признаков\n",
    "importance = pd.Series(lr.coef_[0], index=predictors).sort_values(ascending=False)\n",
    "\n",
    "plt.figure(figsize=(10, 8))\n",
    "importance.plot(kind='bar')\n",
    "plt.title('Важность признаков')\n",
    "plt.xlabel('Признаки')\n",
    "plt.ylabel('Значение коэффициента')\n",
    "plt.show()"
   ]
  },
  {
   "cell_type": "code",
   "execution_count": null,
   "metadata": {},
   "outputs": [],
   "source": [
    "# Производительность модели по сезонам\n",
    "season_accuracy = []\n",
    "\n",
    "seasons = sorted(dataset['Сезон'].unique())\n",
    "for season in seasons:\n",
    "    train = dataset[dataset['Сезон'] < season]\n",
    "    test = dataset[dataset['Сезон'] == season]\n",
    "\n",
    "    # Проверяем, что у нас есть достаточно данных для обучения и тестирования\n",
    "    if len(train) == 0 or len(test) == 0:\n",
    "        print(f\"Недостаточно данных для сезона {season}. Пропускаем этот сезон.\")\n",
    "        continue\n",
    "\n",
    "    lr.fit(train[predictors], train['Цель'])\n",
    "    predictions = lr.predict(test[predictors])\n",
    "    accuracy = accuracy_score(test['Цель'], predictions)\n",
    "    season_accuracy.append((season, accuracy))\n"
   ]
  },
  {
   "cell_type": "code",
   "execution_count": null,
   "metadata": {},
   "outputs": [],
   "source": [
    "\n",
    "season_accuracy_df = pd.DataFrame(season_accuracy, columns=['Сезон', 'Точность'])"
   ]
  },
  {
   "cell_type": "code",
   "execution_count": null,
   "metadata": {},
   "outputs": [],
   "source": [
    "plt.figure(figsize=(10, 6))\n",
    "sns.lineplot(x='Сезон', y='Точность', data=season_accuracy_df)\n",
    "plt.title('Точность модели по сезонам')\n",
    "plt.xlabel('Сезон')\n",
    "plt.ylabel('Точность')\n",
    "plt.show()"
   ]
  },
  {
   "cell_type": "code",
   "execution_count": 12,
   "metadata": {},
   "outputs": [],
   "source": [
    "# Обучение модели \n",
    "def back_test(data, model, predictors, start=2, step=1):\n",
    "    seasons = sorted(data['Сезон'].unique())\n",
    "    for i in range(start, len(seasons), step):\n",
    "        season = seasons[i]\n",
    "        train = data[data['Сезон'] < season]\n",
    "        model.fit(train[predictors], train['Цель'])\n",
    "    return model"
   ]
  },
  {
   "cell_type": "code",
   "execution_count": null,
   "metadata": {},
   "outputs": [],
   "source": [
    "model = back_test(dataset, lr, predictors)"
   ]
  },
  {
   "cell_type": "code",
   "execution_count": 14,
   "metadata": {},
   "outputs": [],
   "source": [
    "# Получение средних показателей команды за последние 10 игр по названиям\n",
    "def get_team_data(team, team_2):\n",
    "\n",
    "    team_1_df = dataset[(dataset['Имя'] == team)]\n",
    "    team_2_df = dataset[(dataset['Имя'] == team_2)]\n",
    "\n",
    "    team_1_df['Сезон'] = pd.to_numeric(team_1_df['Сезон'])\n",
    "    team_2_df['Сезон'] = pd.to_numeric(team_2_df['Сезон'])\n",
    "\n",
    "    team_1_sorted = (team_1_df.sort_values(by='Сезон'))\n",
    "    team_2_sorted = team_2_df.sort_values(by='Сезон')\n",
    "\n",
    "    last_10_games_1 = team_1_sorted[predictors].tail(10).filter(regex='^(?!.*прот).*$')\n",
    "    last_10_games_2 = team_2_sorted[predictors].tail(10).filter(regex='^(?!.*прот).*$').rename(\n",
    "        columns=lambda x: f\"{x} прот.\")\n",
    "    last_10_games_2.drop(columns=['МИН прот.', 'Потери прот.', 'Фолы прот.'], inplace=True)\n",
    "    combined = pd.concat([last_10_games_1.reset_index(drop=True), last_10_games_2.reset_index(drop=True)], axis=1)\n",
    "    return combined.mean().to_frame().T.sort_index(axis=1)"
   ]
  },
  {
   "cell_type": "code",
   "execution_count": null,
   "metadata": {},
   "outputs": [],
   "source": [
    "t1 = 'ЦСКА'\n",
    "t2 = 'Автодор'\n",
    "\n",
    "pr_data = get_team_data(t1, t2)\n",
    "pr_data = pr_data.loc[:, ~pr_data.columns.duplicated()]\n",
    "\n",
    "pred = model.predict_proba(pr_data)\n",
    "print(f'Вероятность победы в матче: {t1 if pred[0][0] < pred[0][1] else t2} побеждает')\n",
    "print(pred)"
   ]
  },
  {
   "cell_type": "code",
   "execution_count": null,
   "metadata": {},
   "outputs": [],
   "source": [
    "# Сравнение производительности команд\n",
    "team_1_data = dataset[dataset['Имя'] == t1].tail(10)\n",
    "team_2_data = dataset[dataset['Имя'] == t2].tail(10)\n",
    "\n",
    "team_1_avg = team_1_data[predictors].mean()\n",
    "team_2_avg = team_2_data[predictors].mean()\n",
    "\n",
    "comparison_df = pd.DataFrame({'Команда 1': team_1_avg, 'Команда 2': team_2_avg})\n",
    "comparison_df.plot(kind='bar', figsize=(14, 8))\n",
    "plt.title(f'Сравнение производительности за последние 10 игр: {t1} vs {t2}')\n",
    "plt.xlabel('Признаки')\n",
    "plt.ylabel('Среднее значение')\n",
    "plt.show()"
   ]
  }
 ],
 "metadata": {
  "kernelspec": {
   "display_name": "Python 3",
   "language": "python",
   "name": "python3"
  },
  "language_info": {
   "codemirror_mode": {
    "name": "ipython",
    "version": 3
   },
   "file_extension": ".py",
   "mimetype": "text/x-python",
   "name": "python",
   "nbconvert_exporter": "python",
   "pygments_lexer": "ipython3",
   "version": "3.12.3"
  }
 },
 "nbformat": 4,
 "nbformat_minor": 2
}
